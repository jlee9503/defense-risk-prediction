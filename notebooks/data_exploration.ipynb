{
 "cells": [
  {
   "cell_type": "code",
   "execution_count": null,
   "id": "672d711d",
   "metadata": {},
   "outputs": [],
   "source": [
    "import os\n",
    "from dotenv import load_dotenv\n",
    "import pyodbc\n",
    "import pandas as pd\n",
    "from pathlib import Path\n",
    "\n",
    "# Load environment variables\n",
    "load_dotenv()\n",
    "\n",
    "# Read values\n",
    "server = os.getenv(\"DB_SERVER\")\n",
    "database = os.getenv(\"DB_NAME\")\n",
    "username = os.getenv(\"DB_USER\")\n",
    "password = os.getenv(\"DB_PASSWORD\")\n",
    "\n",
    "# Create connection string\n",
    "conn_str = (\n",
    "    f\"DRIVER={{ODBC Driver 17 for SQL Server}};\"\n",
    "    f\"SERVER={server};DATABASE={database};UID={username};PWD={password}\"\n",
    ")\n",
    "\n",
    "# Connect\n",
    "conn = pyodbc.connect(conn_str)"
   ]
  },
  {
   "cell_type": "code",
   "execution_count": null,
   "id": "2c7f4197",
   "metadata": {},
   "outputs": [],
   "source": [
    "def load_query(name):\n",
    "\tpath = Path(\"../scripts\") / f\"{name}.sql\"\n",
    "\tif not path.exists():\n",
    "\t\traise FileNotFoundError(f\"Query file {path} does not exist.\")\n",
    "\treturn path.read_text()\n",
    "\n",
    "contracts_df = pd.read_sql(load_query('get_contracts'), conn)\n",
    "contracts_df"
   ]
  }
 ],
 "metadata": {
  "kernelspec": {
   "display_name": "venv",
   "language": "python",
   "name": "python3"
  },
  "language_info": {
   "codemirror_mode": {
    "name": "ipython",
    "version": 3
   },
   "file_extension": ".py",
   "mimetype": "text/x-python",
   "name": "python",
   "nbconvert_exporter": "python",
   "pygments_lexer": "ipython3",
   "version": "3.9.6"
  }
 },
 "nbformat": 4,
 "nbformat_minor": 5
}
